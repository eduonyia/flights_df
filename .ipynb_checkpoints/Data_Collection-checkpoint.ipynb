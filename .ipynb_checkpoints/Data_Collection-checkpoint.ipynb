{
 "cells": [
  {
   "cell_type": "markdown",
   "id": "1f38d969",
   "metadata": {
    "id": "1f38d969"
   },
   "source": [
    "### Data Collection \n",
    "\n",
    "1. Through a Webpage \n",
    "2. Through an API \n",
    "\n",
    "\n",
    "\n",
    "* Webpage : To extract data from a webpage there are 2 python package to use:\n",
    "\n",
    "1. BeautifulSoup (To be covered)\n",
    "2. Selenium [Capstone Project](https://hfr.health.gov.ng/facilities/hospitals-search?_token=uHw9x4DLz9c8MwyEEHT7icRzqQ58EbDYmDotb9Ez&state_id=1&ward_id=0&facility_level_id=0&ownership_id=0&operational_status_id=1&registration_status_id=2&license_status_id=1&geo_codes=0&service_type=0&service_category_id=0&entries_per_page=20&page=1#)\n",
    "\n",
    "\n",
    "\n",
    "Webpages to scrape\n",
    "1. [Weather](https://forecast.weather.gov/MapClick.php?lat=37.7772&lon=-122.4168#.ZAhnIezMJhF)\n",
    "2. [Wikipedia](https://en.wikipedia.org/wiki/List_of_countries_by_GDP_(nominal))\n"
   ]
  },
  {
   "cell_type": "markdown",
   "id": "bef6c6f2",
   "metadata": {
    "id": "bef6c6f2"
   },
   "source": [
    "## Weather Data Scraping\n",
    "\n",
    "country | name | description | temp | condition <br>\n",
    "SA | Today | Sunny | 54 |  High\n",
    "SA | "
   ]
  },
  {
   "cell_type": "code",
   "execution_count": null,
   "id": "61dcd518",
   "metadata": {
    "id": "61dcd518",
    "outputId": "4d9ea6ac-7e44-412e-b80f-fafc75024e86"
   },
   "outputs": [
    {
     "name": "stdout",
     "output_type": "stream",
     "text": [
      "Requirement already satisfied: beautifulsoup4 in /Users/opeyemi/opt/anaconda3/lib/python3.8/site-packages (4.9.3)\r\n",
      "Requirement already satisfied: soupsieve>1.2 in /Users/opeyemi/opt/anaconda3/lib/python3.8/site-packages (from beautifulsoup4) (2.2.1)\r\n"
     ]
    }
   ],
   "source": [
    "!pip install beautifulsoup4"
   ]
  },
  {
   "cell_type": "code",
   "execution_count": null,
   "id": "6108343b",
   "metadata": {
    "id": "6108343b",
    "outputId": "2602fe1d-11fc-434a-d776-980de1393e53"
   },
   "outputs": [
    {
     "name": "stdout",
     "output_type": "stream",
     "text": [
      "Requirement already satisfied: requests in /Users/opeyemi/opt/anaconda3/lib/python3.8/site-packages (2.25.1)\r\n",
      "Requirement already satisfied: chardet<5,>=3.0.2 in /Users/opeyemi/opt/anaconda3/lib/python3.8/site-packages (from requests) (4.0.0)\r\n",
      "Requirement already satisfied: idna<3,>=2.5 in /Users/opeyemi/opt/anaconda3/lib/python3.8/site-packages (from requests) (2.10)\r\n",
      "Requirement already satisfied: certifi>=2017.4.17 in /Users/opeyemi/opt/anaconda3/lib/python3.8/site-packages (from requests) (2020.12.5)\r\n",
      "Requirement already satisfied: urllib3<1.27,>=1.21.1 in /Users/opeyemi/opt/anaconda3/lib/python3.8/site-packages (from requests) (1.26.4)\r\n"
     ]
    }
   ],
   "source": [
    "!pip install requests"
   ]
  },
  {
   "cell_type": "code",
   "execution_count": 1,
   "id": "8c92d446",
   "metadata": {
    "id": "8c92d446"
   },
   "outputs": [],
   "source": [
    "import pandas as pd\n",
    "import requests\n",
    "from bs4 import BeautifulSoup as bs"
   ]
  },
  {
   "cell_type": "code",
   "execution_count": 3,
   "id": "49983c41",
   "metadata": {
    "id": "49983c41"
   },
   "outputs": [
    {
     "data": {
      "text/plain": [
       "200"
      ]
     },
     "execution_count": 3,
     "metadata": {},
     "output_type": "execute_result"
    }
   ],
   "source": [
    "url = \"https://forecast.weather.gov/MapClick.php?lat=37.7772&lon=-122.4168#.ZAjW_OzMJhG\"\n",
    "request = requests.get(url)\n",
    "request.status_code"
   ]
  },
  {
   "cell_type": "markdown",
   "id": "25fd4264",
   "metadata": {
    "id": "25fd4264"
   },
   "source": [
    ".find <br>\n",
    ".find_all <br>\n",
    ".select <br>"
   ]
  },
  {
   "cell_type": "code",
   "execution_count": 4,
   "id": "bdb7e714",
   "metadata": {
    "id": "bdb7e714"
   },
   "outputs": [],
   "source": [
    "page = bs(request.content, \"html.parser\")"
   ]
  },
  {
   "cell_type": "code",
   "execution_count": 5,
   "id": "8c0c61bc",
   "metadata": {
    "id": "8c0c61bc"
   },
   "outputs": [],
   "source": [
    "days = page.find(id=\"seven-day-forecast\")"
   ]
  },
  {
   "cell_type": "markdown",
   "id": "e229c0d4",
   "metadata": {},
   "source": [
    "## Get today's information"
   ]
  },
  {
   "cell_type": "code",
   "execution_count": 7,
   "id": "e33170d2",
   "metadata": {},
   "outputs": [
    {
     "data": {
      "text/plain": [
       "<li class=\"forecast-tombstone current-hazard current-hazard-watch\" onclick=\"$('#headline-detail-now').toggle(); $('#headline-detail').hide()\">\n",
       "<div class=\"top-bar\"> <div id=\"headline-detail-now\"><div>Flood Watch until March 12, 10:00am</div></div><span class=\"tab\"></span><span class=\"fa fa-info-circle\"></span></div><div class=\"tombstone-container\">\n",
       "<p class=\"period-name\">NOW until<br/>10:00am Sun</p>\n",
       "<p><img alt=\"\" class=\"forecast-icon\" src=\"newimages/medium/nra.png\" title=\"\"/></p><p class=\"short-desc\">Flood Watch</p></div></li>"
      ]
     },
     "execution_count": 7,
     "metadata": {},
     "output_type": "execute_result"
    }
   ],
   "source": [
    "days.find(class_=\"forecast-tombstone\")"
   ]
  },
  {
   "cell_type": "markdown",
   "id": "a34aca0f",
   "metadata": {},
   "source": [
    "## Get all days"
   ]
  },
  {
   "cell_type": "code",
   "execution_count": 8,
   "id": "f22ec5ab",
   "metadata": {},
   "outputs": [],
   "source": [
    "all_days = page.find(id=\"seven-day-forecast\")"
   ]
  },
  {
   "cell_type": "code",
   "execution_count": 9,
   "id": "fb2cfc2a",
   "metadata": {
    "id": "fb2cfc2a"
   },
   "outputs": [],
   "source": [
    "all_days = all_days.find_all(class_=\"forecast-tombstone\")"
   ]
  },
  {
   "cell_type": "code",
   "execution_count": 10,
   "id": "f518c6f0",
   "metadata": {
    "id": "f518c6f0",
    "outputId": "f5a23565-7885-4d42-fe68-c1d2d63d3e4c"
   },
   "outputs": [
    {
     "data": {
      "text/plain": [
       "9"
      ]
     },
     "execution_count": 10,
     "metadata": {},
     "output_type": "execute_result"
    }
   ],
   "source": [
    "len(all_days)"
   ]
  },
  {
   "cell_type": "code",
   "execution_count": 14,
   "id": "a9724418",
   "metadata": {
    "id": "a9724418"
   },
   "outputs": [],
   "source": [
    "today = all_days[0]"
   ]
  },
  {
   "cell_type": "code",
   "execution_count": 16,
   "id": "88fc7875",
   "metadata": {
    "id": "88fc7875"
   },
   "outputs": [],
   "source": [
    "day = today.find(class_=\"period-name\").text\n",
    "desc = today.find(class_=\"short-desc\").text\n",
    "#temp = today.find(class_=\"temp\").text\n",
    "temp =  getattr(today.find(class_=\"temp\"), 'text', None)"
   ]
  },
  {
   "cell_type": "code",
   "execution_count": 34,
   "id": "7a14442c",
   "metadata": {
    "id": "7a14442c"
   },
   "outputs": [],
   "source": [
    "days = [i.find(class_=\"period-name\").text for i in all_days]\n",
    "desc = [i.find(class_=\"short-desc\").text for i in all_days]\n",
    "temp1 = [getattr(i.find(class_=\"temp\"), 'text', None) for i in all_days]"
   ]
  },
  {
   "cell_type": "code",
   "execution_count": 32,
   "id": "98c0e7b3",
   "metadata": {},
   "outputs": [],
   "source": [
    "temp = []\n",
    "\n",
    "for i in all_days:\n",
    "    value = getattr(i.find(class_=\"temp\"), 'text', None)\n",
    "    temp.append(value)"
   ]
  },
  {
   "cell_type": "code",
   "execution_count": 33,
   "id": "e0296272",
   "metadata": {},
   "outputs": [
    {
     "data": {
      "text/plain": [
       "[None,\n",
       " 'Low: 46 °F',\n",
       " 'High: 57 °F',\n",
       " 'Low: 51 °F',\n",
       " 'High: 59 °F',\n",
       " 'Low: 52 °F',\n",
       " 'High: 62 °F',\n",
       " 'Low: 52 °F',\n",
       " 'High: 59 °F']"
      ]
     },
     "execution_count": 33,
     "metadata": {},
     "output_type": "execute_result"
    }
   ],
   "source": [
    "temp"
   ]
  },
  {
   "cell_type": "code",
   "execution_count": 35,
   "id": "b01ca215",
   "metadata": {},
   "outputs": [
    {
     "data": {
      "text/plain": [
       "[None,\n",
       " 'Low: 46 °F',\n",
       " 'High: 57 °F',\n",
       " 'Low: 51 °F',\n",
       " 'High: 59 °F',\n",
       " 'Low: 52 °F',\n",
       " 'High: 62 °F',\n",
       " 'Low: 52 °F',\n",
       " 'High: 59 °F']"
      ]
     },
     "execution_count": 35,
     "metadata": {},
     "output_type": "execute_result"
    }
   ],
   "source": [
    "temp1"
   ]
  },
  {
   "cell_type": "code",
   "execution_count": null,
   "id": "603d1639",
   "metadata": {
    "id": "603d1639"
   },
   "outputs": [],
   "source": [
    "data = pd.DataFrame({\"days\":days, \"desc\":desc, \"temp\":temp})"
   ]
  },
  {
   "cell_type": "code",
   "execution_count": null,
   "id": "125693df",
   "metadata": {
    "id": "125693df",
    "outputId": "ff8e22d4-2b6b-479c-a04c-5d4b08c2d0a6"
   },
   "outputs": [
    {
     "data": {
      "text/html": [
       "<div>\n",
       "<style scoped>\n",
       "    .dataframe tbody tr th:only-of-type {\n",
       "        vertical-align: middle;\n",
       "    }\n",
       "\n",
       "    .dataframe tbody tr th {\n",
       "        vertical-align: top;\n",
       "    }\n",
       "\n",
       "    .dataframe thead th {\n",
       "        text-align: right;\n",
       "    }\n",
       "</style>\n",
       "<table border=\"1\" class=\"dataframe\">\n",
       "  <thead>\n",
       "    <tr style=\"text-align: right;\">\n",
       "      <th></th>\n",
       "      <th>days</th>\n",
       "      <th>desc</th>\n",
       "      <th>temp</th>\n",
       "    </tr>\n",
       "  </thead>\n",
       "  <tbody>\n",
       "    <tr>\n",
       "      <th>0</th>\n",
       "      <td>Today</td>\n",
       "      <td>Sunny</td>\n",
       "      <td>High: 54 °F</td>\n",
       "    </tr>\n",
       "    <tr>\n",
       "      <th>1</th>\n",
       "      <td>Tonight</td>\n",
       "      <td>Partly Cloudythen ChanceRain</td>\n",
       "      <td>Low: 42 °F</td>\n",
       "    </tr>\n",
       "    <tr>\n",
       "      <th>2</th>\n",
       "      <td>Thursday</td>\n",
       "      <td>Rain</td>\n",
       "      <td>High: 56 °F</td>\n",
       "    </tr>\n",
       "    <tr>\n",
       "      <th>3</th>\n",
       "      <td>ThursdayNight</td>\n",
       "      <td>Heavy Rainand Breezy</td>\n",
       "      <td>Low: 48 °F</td>\n",
       "    </tr>\n",
       "    <tr>\n",
       "      <th>4</th>\n",
       "      <td>Friday</td>\n",
       "      <td>Heavy Rainand Breezy</td>\n",
       "      <td>High: 59 °F</td>\n",
       "    </tr>\n",
       "  </tbody>\n",
       "</table>\n",
       "</div>"
      ],
      "text/plain": [
       "            days                          desc         temp\n",
       "0          Today                         Sunny  High: 54 °F\n",
       "1        Tonight  Partly Cloudythen ChanceRain   Low: 42 °F\n",
       "2       Thursday                          Rain  High: 56 °F\n",
       "3  ThursdayNight          Heavy Rainand Breezy   Low: 48 °F\n",
       "4         Friday          Heavy Rainand Breezy  High: 59 °F"
      ]
     },
     "execution_count": 68,
     "metadata": {},
     "output_type": "execute_result"
    }
   ],
   "source": [
    "data.head()"
   ]
  },
  {
   "cell_type": "code",
   "execution_count": null,
   "id": "14566976",
   "metadata": {
    "id": "14566976"
   },
   "outputs": [],
   "source": [
    "data['condition'] = data['temp'].apply(lambda x: x.split(\":\")[0])"
   ]
  },
  {
   "cell_type": "code",
   "execution_count": null,
   "id": "8d6a3cba",
   "metadata": {
    "id": "8d6a3cba"
   },
   "outputs": [],
   "source": [
    "data['temp'] = data['temp'].apply(lambda x:int(x.split()[1]))"
   ]
  },
  {
   "cell_type": "code",
   "execution_count": null,
   "id": "f7ad467b",
   "metadata": {
    "id": "f7ad467b",
    "outputId": "a488d532-128b-4e0b-f5c3-1f100f329f1e"
   },
   "outputs": [
    {
     "data": {
      "text/html": [
       "<div>\n",
       "<style scoped>\n",
       "    .dataframe tbody tr th:only-of-type {\n",
       "        vertical-align: middle;\n",
       "    }\n",
       "\n",
       "    .dataframe tbody tr th {\n",
       "        vertical-align: top;\n",
       "    }\n",
       "\n",
       "    .dataframe thead th {\n",
       "        text-align: right;\n",
       "    }\n",
       "</style>\n",
       "<table border=\"1\" class=\"dataframe\">\n",
       "  <thead>\n",
       "    <tr style=\"text-align: right;\">\n",
       "      <th></th>\n",
       "      <th>days</th>\n",
       "      <th>desc</th>\n",
       "      <th>temp</th>\n",
       "      <th>condition</th>\n",
       "    </tr>\n",
       "  </thead>\n",
       "  <tbody>\n",
       "    <tr>\n",
       "      <th>0</th>\n",
       "      <td>Today</td>\n",
       "      <td>Sunny</td>\n",
       "      <td>54</td>\n",
       "      <td>High</td>\n",
       "    </tr>\n",
       "    <tr>\n",
       "      <th>1</th>\n",
       "      <td>Tonight</td>\n",
       "      <td>Partly Cloudythen ChanceRain</td>\n",
       "      <td>42</td>\n",
       "      <td>Low</td>\n",
       "    </tr>\n",
       "    <tr>\n",
       "      <th>2</th>\n",
       "      <td>Thursday</td>\n",
       "      <td>Rain</td>\n",
       "      <td>56</td>\n",
       "      <td>High</td>\n",
       "    </tr>\n",
       "    <tr>\n",
       "      <th>3</th>\n",
       "      <td>ThursdayNight</td>\n",
       "      <td>Heavy Rainand Breezy</td>\n",
       "      <td>48</td>\n",
       "      <td>Low</td>\n",
       "    </tr>\n",
       "    <tr>\n",
       "      <th>4</th>\n",
       "      <td>Friday</td>\n",
       "      <td>Heavy Rainand Breezy</td>\n",
       "      <td>59</td>\n",
       "      <td>High</td>\n",
       "    </tr>\n",
       "    <tr>\n",
       "      <th>5</th>\n",
       "      <td>FridayNight</td>\n",
       "      <td>Chance Rain</td>\n",
       "      <td>48</td>\n",
       "      <td>Low</td>\n",
       "    </tr>\n",
       "    <tr>\n",
       "      <th>6</th>\n",
       "      <td>Saturday</td>\n",
       "      <td>Chance Rain</td>\n",
       "      <td>60</td>\n",
       "      <td>High</td>\n",
       "    </tr>\n",
       "    <tr>\n",
       "      <th>7</th>\n",
       "      <td>SaturdayNight</td>\n",
       "      <td>Rain Likely</td>\n",
       "      <td>51</td>\n",
       "      <td>Low</td>\n",
       "    </tr>\n",
       "    <tr>\n",
       "      <th>8</th>\n",
       "      <td>Sunday</td>\n",
       "      <td>Rain Likely</td>\n",
       "      <td>61</td>\n",
       "      <td>High</td>\n",
       "    </tr>\n",
       "  </tbody>\n",
       "</table>\n",
       "</div>"
      ],
      "text/plain": [
       "            days                          desc  temp condition\n",
       "0          Today                         Sunny    54      High\n",
       "1        Tonight  Partly Cloudythen ChanceRain    42       Low\n",
       "2       Thursday                          Rain    56      High\n",
       "3  ThursdayNight          Heavy Rainand Breezy    48       Low\n",
       "4         Friday          Heavy Rainand Breezy    59      High\n",
       "5    FridayNight                   Chance Rain    48       Low\n",
       "6       Saturday                   Chance Rain    60      High\n",
       "7  SaturdayNight                   Rain Likely    51       Low\n",
       "8         Sunday                   Rain Likely    61      High"
      ]
     },
     "execution_count": 76,
     "metadata": {},
     "output_type": "execute_result"
    }
   ],
   "source": [
    "data"
   ]
  },
  {
   "cell_type": "code",
   "execution_count": null,
   "id": "7677fd1d",
   "metadata": {
    "id": "7677fd1d"
   },
   "outputs": [],
   "source": [
    "days = page.find(id=\"seven-day-forecast\")"
   ]
  },
  {
   "cell_type": "code",
   "execution_count": null,
   "id": "3474327c",
   "metadata": {
    "id": "3474327c"
   },
   "outputs": [],
   "source": [
    "names = [i.text for i in days.select(\".panel-body .forecast-tombstone .period-name\")]\n",
    "desc = [i.text for i in days.select(\".panel-body .forecast-tombstone .short-desc\")]\n",
    "temp = [i.text for i in days.select(\".panel-body .forecast-tombstone .temp\")]"
   ]
  },
  {
   "cell_type": "code",
   "execution_count": null,
   "id": "10d26b46",
   "metadata": {
    "id": "10d26b46",
    "outputId": "bb822ca1-923a-4a7e-9cdd-76817bfc0137"
   },
   "outputs": [
    {
     "data": {
      "text/html": [
       "<div>\n",
       "<style scoped>\n",
       "    .dataframe tbody tr th:only-of-type {\n",
       "        vertical-align: middle;\n",
       "    }\n",
       "\n",
       "    .dataframe tbody tr th {\n",
       "        vertical-align: top;\n",
       "    }\n",
       "\n",
       "    .dataframe thead th {\n",
       "        text-align: right;\n",
       "    }\n",
       "</style>\n",
       "<table border=\"1\" class=\"dataframe\">\n",
       "  <thead>\n",
       "    <tr style=\"text-align: right;\">\n",
       "      <th></th>\n",
       "      <th>names</th>\n",
       "      <th>desc</th>\n",
       "      <th>temp</th>\n",
       "    </tr>\n",
       "  </thead>\n",
       "  <tbody>\n",
       "    <tr>\n",
       "      <th>0</th>\n",
       "      <td>Today</td>\n",
       "      <td>Sunny</td>\n",
       "      <td>High: 54 °F</td>\n",
       "    </tr>\n",
       "    <tr>\n",
       "      <th>1</th>\n",
       "      <td>Tonight</td>\n",
       "      <td>Partly Cloudythen ChanceRain</td>\n",
       "      <td>Low: 42 °F</td>\n",
       "    </tr>\n",
       "    <tr>\n",
       "      <th>2</th>\n",
       "      <td>Thursday</td>\n",
       "      <td>Rain</td>\n",
       "      <td>High: 56 °F</td>\n",
       "    </tr>\n",
       "    <tr>\n",
       "      <th>3</th>\n",
       "      <td>ThursdayNight</td>\n",
       "      <td>Heavy Rainand Breezy</td>\n",
       "      <td>Low: 48 °F</td>\n",
       "    </tr>\n",
       "    <tr>\n",
       "      <th>4</th>\n",
       "      <td>Friday</td>\n",
       "      <td>Heavy Rainand Breezy</td>\n",
       "      <td>High: 59 °F</td>\n",
       "    </tr>\n",
       "    <tr>\n",
       "      <th>5</th>\n",
       "      <td>FridayNight</td>\n",
       "      <td>Chance Rain</td>\n",
       "      <td>Low: 48 °F</td>\n",
       "    </tr>\n",
       "    <tr>\n",
       "      <th>6</th>\n",
       "      <td>Saturday</td>\n",
       "      <td>Chance Rain</td>\n",
       "      <td>High: 60 °F</td>\n",
       "    </tr>\n",
       "    <tr>\n",
       "      <th>7</th>\n",
       "      <td>SaturdayNight</td>\n",
       "      <td>Rain Likely</td>\n",
       "      <td>Low: 51 °F</td>\n",
       "    </tr>\n",
       "    <tr>\n",
       "      <th>8</th>\n",
       "      <td>Sunday</td>\n",
       "      <td>Rain Likely</td>\n",
       "      <td>High: 61 °F</td>\n",
       "    </tr>\n",
       "  </tbody>\n",
       "</table>\n",
       "</div>"
      ],
      "text/plain": [
       "           names                          desc         temp\n",
       "0          Today                         Sunny  High: 54 °F\n",
       "1        Tonight  Partly Cloudythen ChanceRain   Low: 42 °F\n",
       "2       Thursday                          Rain  High: 56 °F\n",
       "3  ThursdayNight          Heavy Rainand Breezy   Low: 48 °F\n",
       "4         Friday          Heavy Rainand Breezy  High: 59 °F\n",
       "5    FridayNight                   Chance Rain   Low: 48 °F\n",
       "6       Saturday                   Chance Rain  High: 60 °F\n",
       "7  SaturdayNight                   Rain Likely   Low: 51 °F\n",
       "8         Sunday                   Rain Likely  High: 61 °F"
      ]
     },
     "execution_count": 100,
     "metadata": {},
     "output_type": "execute_result"
    }
   ],
   "source": [
    "pd.DataFrame({\"names\":names, \"desc\":desc, \"temp\":temp})"
   ]
  },
  {
   "cell_type": "code",
   "execution_count": null,
   "id": "3a8ee508",
   "metadata": {
    "id": "3a8ee508"
   },
   "outputs": [],
   "source": [
    "url2 = \"https://en.wikipedia.org/wiki/List_of_countries_by_GDP_(nominal)\""
   ]
  },
  {
   "cell_type": "code",
   "execution_count": null,
   "id": "275dbce6",
   "metadata": {
    "id": "275dbce6"
   },
   "outputs": [],
   "source": [
    "request = requests.get(url2)"
   ]
  },
  {
   "cell_type": "code",
   "execution_count": null,
   "id": "e4018d5e",
   "metadata": {
    "id": "e4018d5e"
   },
   "outputs": [],
   "source": [
    "page =bs(request.content, \"html.parser\")"
   ]
  },
  {
   "cell_type": "markdown",
   "id": "d0c5c556",
   "metadata": {
    "id": "d0c5c556"
   },
   "source": [
    "## Wikipedia Webscrape"
   ]
  },
  {
   "cell_type": "code",
   "execution_count": null,
   "id": "15cfb3e4",
   "metadata": {
    "id": "15cfb3e4"
   },
   "outputs": [],
   "source": [
    "page = pd.read_html(url2)"
   ]
  },
  {
   "cell_type": "code",
   "execution_count": null,
   "id": "aec2970c",
   "metadata": {
    "id": "aec2970c"
   },
   "outputs": [],
   "source": [
    "data = page[2][:4]"
   ]
  },
  {
   "cell_type": "code",
   "execution_count": null,
   "id": "c3c41d88",
   "metadata": {
    "id": "c3c41d88"
   },
   "outputs": [],
   "source": [
    "data.columns = [i[1] for i in list(data.columns)]"
   ]
  },
  {
   "cell_type": "code",
   "execution_count": null,
   "id": "9869234b",
   "metadata": {
    "id": "9869234b",
    "outputId": "f913f26c-1c07-4568-8a45-fa54998eb4a1"
   },
   "outputs": [
    {
     "data": {
      "text/html": [
       "<div>\n",
       "<style scoped>\n",
       "    .dataframe tbody tr th:only-of-type {\n",
       "        vertical-align: middle;\n",
       "    }\n",
       "\n",
       "    .dataframe tbody tr th {\n",
       "        vertical-align: top;\n",
       "    }\n",
       "\n",
       "    .dataframe thead th {\n",
       "        text-align: right;\n",
       "    }\n",
       "</style>\n",
       "<table border=\"1\" class=\"dataframe\">\n",
       "  <thead>\n",
       "    <tr style=\"text-align: right;\">\n",
       "      <th></th>\n",
       "      <th>Country/Territory</th>\n",
       "      <th>UN Region</th>\n",
       "      <th>Estimate</th>\n",
       "      <th>Year</th>\n",
       "      <th>Estimate</th>\n",
       "      <th>Year</th>\n",
       "      <th>Estimate</th>\n",
       "      <th>Year</th>\n",
       "    </tr>\n",
       "  </thead>\n",
       "  <tbody>\n",
       "    <tr>\n",
       "      <th>0</th>\n",
       "      <td>World</td>\n",
       "      <td>—</td>\n",
       "      <td>101560901</td>\n",
       "      <td>2022</td>\n",
       "      <td>96513077</td>\n",
       "      <td>2021</td>\n",
       "      <td>85328323</td>\n",
       "      <td>2020</td>\n",
       "    </tr>\n",
       "    <tr>\n",
       "      <th>1</th>\n",
       "      <td>United States</td>\n",
       "      <td>Americas</td>\n",
       "      <td>25035164</td>\n",
       "      <td>2022</td>\n",
       "      <td>22996100</td>\n",
       "      <td>2021</td>\n",
       "      <td>20893746</td>\n",
       "      <td>2020</td>\n",
       "    </tr>\n",
       "    <tr>\n",
       "      <th>2</th>\n",
       "      <td>China</td>\n",
       "      <td>Asia</td>\n",
       "      <td>18321197</td>\n",
       "      <td>[n 1]2022</td>\n",
       "      <td>17734063</td>\n",
       "      <td>[n 3]2021</td>\n",
       "      <td>14722801</td>\n",
       "      <td>[n 1]2020</td>\n",
       "    </tr>\n",
       "    <tr>\n",
       "      <th>3</th>\n",
       "      <td>Japan</td>\n",
       "      <td>Asia</td>\n",
       "      <td>4300621</td>\n",
       "      <td>2022</td>\n",
       "      <td>4937422</td>\n",
       "      <td>2021</td>\n",
       "      <td>5057759</td>\n",
       "      <td>2020</td>\n",
       "    </tr>\n",
       "  </tbody>\n",
       "</table>\n",
       "</div>"
      ],
      "text/plain": [
       "  Country/Territory UN Region   Estimate       Year  Estimate       Year  \\\n",
       "0             World         —  101560901       2022  96513077       2021   \n",
       "1     United States  Americas   25035164       2022  22996100       2021   \n",
       "2             China      Asia   18321197  [n 1]2022  17734063  [n 3]2021   \n",
       "3             Japan      Asia    4300621       2022   4937422       2021   \n",
       "\n",
       "   Estimate       Year  \n",
       "0  85328323       2020  \n",
       "1  20893746       2020  \n",
       "2  14722801  [n 1]2020  \n",
       "3   5057759       2020  "
      ]
     },
     "execution_count": 137,
     "metadata": {},
     "output_type": "execute_result"
    }
   ],
   "source": [
    "data"
   ]
  },
  {
   "cell_type": "code",
   "execution_count": null,
   "id": "75a0410f",
   "metadata": {
    "id": "75a0410f"
   },
   "outputs": [],
   "source": []
  }
 ],
 "metadata": {
  "colab": {
   "provenance": []
  },
  "kernelspec": {
   "display_name": "Python 3 (ipykernel)",
   "language": "python",
   "name": "python3"
  },
  "language_info": {
   "codemirror_mode": {
    "name": "ipython",
    "version": 3
   },
   "file_extension": ".py",
   "mimetype": "text/x-python",
   "name": "python",
   "nbconvert_exporter": "python",
   "pygments_lexer": "ipython3",
   "version": "3.10.5"
  }
 },
 "nbformat": 4,
 "nbformat_minor": 5
}
