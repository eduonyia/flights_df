{
 "cells": [
  {
   "cell_type": "markdown",
   "id": "1f38d969",
   "metadata": {
    "id": "1f38d969"
   },
   "source": [
    "### Data Collection \n",
    "\n",
    "1. Through a Webpage \n",
    "2. Through an API \n",
    "\n",
    "\n",
    "\n",
    "* Webpage : To extract data from a webpage there are 2 python package to use:\n",
    "\n",
    "1. BeautifulSoup (To be covered)\n",
    "2. Selenium [Capstone Project](https://hfr.health.gov.ng/facilities/hospitals-search?_token=uHw9x4DLz9c8MwyEEHT7icRzqQ58EbDYmDotb9Ez&state_id=1&ward_id=0&facility_level_id=0&ownership_id=0&operational_status_id=1&registration_status_id=2&license_status_id=1&geo_codes=0&service_type=0&service_category_id=0&entries_per_page=20&page=1#)\n",
    "\n",
    "\n",
    "\n",
    "Webpages to scrape\n",
    "1. [Weather](https://forecast.weather.gov/MapClick.php?lat=37.7772&lon=-122.4168#.ZAhnIezMJhF)\n",
    "2. [Wikipedia](https://en.wikipedia.org/wiki/List_of_countries_by_GDP_(nominal))\n"
   ]
  },
  {
   "cell_type": "markdown",
   "id": "bef6c6f2",
   "metadata": {
    "id": "bef6c6f2"
   },
   "source": [
    "## Weather Data Scraping\n",
    "\n",
    "country | name | description | temp | condition <br>\n",
    "SA | Today | Sunny | 54 |  High\n",
    "SA | "
   ]
  },
  {
   "cell_type": "code",
   "execution_count": 52,
   "id": "61dcd518",
   "metadata": {
    "id": "61dcd518",
    "outputId": "4d9ea6ac-7e44-412e-b80f-fafc75024e86"
   },
   "outputs": [
    {
     "name": "stdout",
     "output_type": "stream",
     "text": [
      "Requirement already satisfied: beautifulsoup4 in /Users/Chinedu/.pyenv/versions/3.10.5/lib/python3.10/site-packages (4.11.1)\r\n",
      "Requirement already satisfied: soupsieve>1.2 in /Users/Chinedu/.pyenv/versions/3.10.5/lib/python3.10/site-packages (from beautifulsoup4) (2.3.2.post1)\r\n"
     ]
    }
   ],
   "source": [
    "!pip install beautifulsoup4"
   ]
  },
  {
   "cell_type": "code",
   "execution_count": 53,
   "id": "6108343b",
   "metadata": {
    "id": "6108343b",
    "outputId": "2602fe1d-11fc-434a-d776-980de1393e53"
   },
   "outputs": [
    {
     "name": "stdout",
     "output_type": "stream",
     "text": [
      "Requirement already satisfied: requests in /Users/Chinedu/.pyenv/versions/3.10.5/lib/python3.10/site-packages (2.28.2)\r\n",
      "Requirement already satisfied: urllib3<1.27,>=1.21.1 in /Users/Chinedu/.pyenv/versions/3.10.5/lib/python3.10/site-packages (from requests) (1.26.14)\r\n",
      "Requirement already satisfied: certifi>=2017.4.17 in /Users/Chinedu/.pyenv/versions/3.10.5/lib/python3.10/site-packages (from requests) (2022.6.15)\r\n",
      "Requirement already satisfied: charset-normalizer<4,>=2 in /Users/Chinedu/.pyenv/versions/3.10.5/lib/python3.10/site-packages (from requests) (2.1.0)\r\n",
      "Requirement already satisfied: idna<4,>=2.5 in /Users/Chinedu/.pyenv/versions/3.10.5/lib/python3.10/site-packages (from requests) (2.8)\r\n"
     ]
    }
   ],
   "source": [
    "!pip install requests"
   ]
  },
  {
   "cell_type": "code",
   "execution_count": 54,
   "id": "8c92d446",
   "metadata": {
    "id": "8c92d446"
   },
   "outputs": [],
   "source": [
    "import pandas as pd\n",
    "import requests\n",
    "from bs4 import BeautifulSoup as bs"
   ]
  },
  {
   "cell_type": "code",
   "execution_count": 55,
   "id": "49983c41",
   "metadata": {
    "id": "49983c41"
   },
   "outputs": [
    {
     "data": {
      "text/plain": [
       "200"
      ]
     },
     "execution_count": 55,
     "metadata": {},
     "output_type": "execute_result"
    }
   ],
   "source": [
    "url = \"https://forecast.weather.gov/MapClick.php?lat=37.7772&lon=-122.4168#.ZAjW_OzMJhG\"\n",
    "request = requests.get(url)\n",
    "request.status_code"
   ]
  },
  {
   "cell_type": "markdown",
   "id": "25fd4264",
   "metadata": {
    "id": "25fd4264"
   },
   "source": [
    ".find <br>\n",
    ".find_all <br>\n",
    ".select <br>"
   ]
  },
  {
   "cell_type": "code",
   "execution_count": 56,
   "id": "bdb7e714",
   "metadata": {
    "id": "bdb7e714"
   },
   "outputs": [],
   "source": [
    "page = bs(request.content, \"html.parser\")"
   ]
  },
  {
   "cell_type": "code",
   "execution_count": 57,
   "id": "8c0c61bc",
   "metadata": {
    "id": "8c0c61bc"
   },
   "outputs": [],
   "source": [
    "days = page.find(id=\"seven-day-forecast\")"
   ]
  },
  {
   "cell_type": "markdown",
   "id": "da0c600b",
   "metadata": {},
   "source": [
    "## Get today's information"
   ]
  },
  {
   "cell_type": "code",
   "execution_count": 58,
   "id": "851fe9a0",
   "metadata": {},
   "outputs": [
    {
     "data": {
      "text/plain": [
       "<li class=\"forecast-tombstone current-hazard current-hazard-watch\" onclick=\"$('#headline-detail-now').toggle(); $('#headline-detail').hide()\">\n",
       "<div class=\"top-bar\"> <div id=\"headline-detail-now\"><div>Flood Watch until March 12, 10:00am</div></div><span class=\"tab\"></span><span class=\"fa fa-info-circle\"></span></div><div class=\"tombstone-container\">\n",
       "<p class=\"period-name\">NOW until<br/>10:00am Sun</p>\n",
       "<p><img alt=\"\" class=\"forecast-icon\" src=\"newimages/medium/nra.png\" title=\"\"/></p><p class=\"short-desc\">Flood Watch</p></div></li>"
      ]
     },
     "execution_count": 58,
     "metadata": {},
     "output_type": "execute_result"
    }
   ],
   "source": [
    "days.find(class_=\"forecast-tombstone\")"
   ]
  },
  {
   "cell_type": "markdown",
   "id": "06d06000",
   "metadata": {},
   "source": [
    "## Get all days"
   ]
  },
  {
   "cell_type": "code",
   "execution_count": 59,
   "id": "257da96d",
   "metadata": {},
   "outputs": [],
   "source": [
    "all_days = page.find(id=\"seven-day-forecast\")"
   ]
  },
  {
   "cell_type": "code",
   "execution_count": 60,
   "id": "fb2cfc2a",
   "metadata": {
    "id": "fb2cfc2a"
   },
   "outputs": [],
   "source": [
    "all_days = all_days.find_all(class_=\"forecast-tombstone\")"
   ]
  },
  {
   "cell_type": "code",
   "execution_count": 61,
   "id": "f518c6f0",
   "metadata": {
    "id": "f518c6f0",
    "outputId": "f5a23565-7885-4d42-fe68-c1d2d63d3e4c"
   },
   "outputs": [
    {
     "data": {
      "text/plain": [
       "9"
      ]
     },
     "execution_count": 61,
     "metadata": {},
     "output_type": "execute_result"
    }
   ],
   "source": [
    "len(all_days)"
   ]
  },
  {
   "cell_type": "code",
   "execution_count": 62,
   "id": "a9724418",
   "metadata": {
    "id": "a9724418"
   },
   "outputs": [],
   "source": [
    "today = all_days[0]"
   ]
  },
  {
   "cell_type": "code",
   "execution_count": 63,
   "id": "88fc7875",
   "metadata": {
    "id": "88fc7875"
   },
   "outputs": [],
   "source": [
    "day = today.find(class_=\"period-name\").text\n",
    "desc = today.find(class_=\"short-desc\").text\n",
    "#temp = today.find(class_=\"temp\").text\n",
    "temp =  getattr(today.find(class_=\"temp\"), 'text', None)"
   ]
  },
  {
   "cell_type": "code",
   "execution_count": 64,
   "id": "7a14442c",
   "metadata": {
    "id": "7a14442c"
   },
   "outputs": [],
   "source": [
    "days = [i.find(class_=\"period-name\").text for i in all_days]\n",
    "desc = [i.find(class_=\"short-desc\").text for i in all_days]\n",
    "temp = [getattr(i.find(class_=\"temp\"), 'text', None) for i in all_days]"
   ]
  },
  {
   "cell_type": "code",
   "execution_count": 65,
   "id": "0c84c6bb",
   "metadata": {},
   "outputs": [],
   "source": [
    "temp1 = []\n",
    "\n",
    "for i in all_days:\n",
    "    value = getattr(i.find(class_=\"temp\"), 'text', None)\n",
    "    temp1.append(value)"
   ]
  },
  {
   "cell_type": "code",
   "execution_count": 66,
   "id": "54de88a2",
   "metadata": {},
   "outputs": [
    {
     "data": {
      "text/plain": [
       "[None,\n",
       " 'Low: 46 °F',\n",
       " 'High: 58 °F',\n",
       " 'Low: 52 °F',\n",
       " 'High: 60 °F',\n",
       " 'Low: 52 °F',\n",
       " 'High: 60 °F',\n",
       " 'Low: 53 °F',\n",
       " 'High: 60 °F']"
      ]
     },
     "execution_count": 66,
     "metadata": {},
     "output_type": "execute_result"
    }
   ],
   "source": [
    "temp"
   ]
  },
  {
   "cell_type": "code",
   "execution_count": 67,
   "id": "c5247427",
   "metadata": {},
   "outputs": [
    {
     "data": {
      "text/plain": [
       "[None,\n",
       " 'Low: 46 °F',\n",
       " 'High: 58 °F',\n",
       " 'Low: 52 °F',\n",
       " 'High: 60 °F',\n",
       " 'Low: 52 °F',\n",
       " 'High: 60 °F',\n",
       " 'Low: 53 °F',\n",
       " 'High: 60 °F']"
      ]
     },
     "execution_count": 67,
     "metadata": {},
     "output_type": "execute_result"
    }
   ],
   "source": [
    "temp1"
   ]
  },
  {
   "cell_type": "code",
   "execution_count": 68,
   "id": "603d1639",
   "metadata": {
    "id": "603d1639"
   },
   "outputs": [],
   "source": [
    "data = pd.DataFrame({\"days\":days, \"desc\":desc, \"temp\":temp})"
   ]
  },
  {
   "cell_type": "code",
   "execution_count": 69,
   "id": "125693df",
   "metadata": {
    "id": "125693df",
    "outputId": "ff8e22d4-2b6b-479c-a04c-5d4b08c2d0a6"
   },
   "outputs": [
    {
     "data": {
      "text/html": [
       "<div>\n",
       "<style scoped>\n",
       "    .dataframe tbody tr th:only-of-type {\n",
       "        vertical-align: middle;\n",
       "    }\n",
       "\n",
       "    .dataframe tbody tr th {\n",
       "        vertical-align: top;\n",
       "    }\n",
       "\n",
       "    .dataframe thead th {\n",
       "        text-align: right;\n",
       "    }\n",
       "</style>\n",
       "<table border=\"1\" class=\"dataframe\">\n",
       "  <thead>\n",
       "    <tr style=\"text-align: right;\">\n",
       "      <th></th>\n",
       "      <th>days</th>\n",
       "      <th>desc</th>\n",
       "      <th>temp</th>\n",
       "    </tr>\n",
       "  </thead>\n",
       "  <tbody>\n",
       "    <tr>\n",
       "      <th>0</th>\n",
       "      <td>NOW until10:00am Sun</td>\n",
       "      <td>Flood Watch</td>\n",
       "      <td>None</td>\n",
       "    </tr>\n",
       "    <tr>\n",
       "      <th>1</th>\n",
       "      <td>Overnight</td>\n",
       "      <td>Chance Rain</td>\n",
       "      <td>Low: 46 °F</td>\n",
       "    </tr>\n",
       "    <tr>\n",
       "      <th>2</th>\n",
       "      <td>Saturday</td>\n",
       "      <td>Rain Likelyand PatchyFog</td>\n",
       "      <td>High: 58 °F</td>\n",
       "    </tr>\n",
       "    <tr>\n",
       "      <th>3</th>\n",
       "      <td>SaturdayNight</td>\n",
       "      <td>Rain andPatchy Fog</td>\n",
       "      <td>Low: 52 °F</td>\n",
       "    </tr>\n",
       "    <tr>\n",
       "      <th>4</th>\n",
       "      <td>Sunday</td>\n",
       "      <td>Rain andPatchy Fog</td>\n",
       "      <td>High: 60 °F</td>\n",
       "    </tr>\n",
       "  </tbody>\n",
       "</table>\n",
       "</div>"
      ],
      "text/plain": [
       "                   days                      desc         temp\n",
       "0  NOW until10:00am Sun               Flood Watch         None\n",
       "1             Overnight               Chance Rain   Low: 46 °F\n",
       "2              Saturday  Rain Likelyand PatchyFog  High: 58 °F\n",
       "3         SaturdayNight        Rain andPatchy Fog   Low: 52 °F\n",
       "4                Sunday        Rain andPatchy Fog  High: 60 °F"
      ]
     },
     "execution_count": 69,
     "metadata": {},
     "output_type": "execute_result"
    }
   ],
   "source": [
    "data.head()"
   ]
  },
  {
   "cell_type": "code",
   "execution_count": 70,
   "id": "14566976",
   "metadata": {
    "id": "14566976"
   },
   "outputs": [],
   "source": [
    "data['condition'] = data['temp'].apply(lambda x: x.split(\":\")[0] if x is not None else x)"
   ]
  },
  {
   "cell_type": "code",
   "execution_count": 71,
   "id": "bc6cb8dc",
   "metadata": {},
   "outputs": [
    {
     "data": {
      "text/html": [
       "<div>\n",
       "<style scoped>\n",
       "    .dataframe tbody tr th:only-of-type {\n",
       "        vertical-align: middle;\n",
       "    }\n",
       "\n",
       "    .dataframe tbody tr th {\n",
       "        vertical-align: top;\n",
       "    }\n",
       "\n",
       "    .dataframe thead th {\n",
       "        text-align: right;\n",
       "    }\n",
       "</style>\n",
       "<table border=\"1\" class=\"dataframe\">\n",
       "  <thead>\n",
       "    <tr style=\"text-align: right;\">\n",
       "      <th></th>\n",
       "      <th>days</th>\n",
       "      <th>desc</th>\n",
       "      <th>temp</th>\n",
       "      <th>condition</th>\n",
       "    </tr>\n",
       "  </thead>\n",
       "  <tbody>\n",
       "    <tr>\n",
       "      <th>0</th>\n",
       "      <td>NOW until10:00am Sun</td>\n",
       "      <td>Flood Watch</td>\n",
       "      <td>None</td>\n",
       "      <td>None</td>\n",
       "    </tr>\n",
       "    <tr>\n",
       "      <th>1</th>\n",
       "      <td>Overnight</td>\n",
       "      <td>Chance Rain</td>\n",
       "      <td>Low: 46 °F</td>\n",
       "      <td>Low</td>\n",
       "    </tr>\n",
       "    <tr>\n",
       "      <th>2</th>\n",
       "      <td>Saturday</td>\n",
       "      <td>Rain Likelyand PatchyFog</td>\n",
       "      <td>High: 58 °F</td>\n",
       "      <td>High</td>\n",
       "    </tr>\n",
       "    <tr>\n",
       "      <th>3</th>\n",
       "      <td>SaturdayNight</td>\n",
       "      <td>Rain andPatchy Fog</td>\n",
       "      <td>Low: 52 °F</td>\n",
       "      <td>Low</td>\n",
       "    </tr>\n",
       "    <tr>\n",
       "      <th>4</th>\n",
       "      <td>Sunday</td>\n",
       "      <td>Rain andPatchy Fog</td>\n",
       "      <td>High: 60 °F</td>\n",
       "      <td>High</td>\n",
       "    </tr>\n",
       "    <tr>\n",
       "      <th>5</th>\n",
       "      <td>SundayNight</td>\n",
       "      <td>Rain Likelyand PatchyFog</td>\n",
       "      <td>Low: 52 °F</td>\n",
       "      <td>Low</td>\n",
       "    </tr>\n",
       "    <tr>\n",
       "      <th>6</th>\n",
       "      <td>Monday</td>\n",
       "      <td>Rain Likelyand PatchyFog</td>\n",
       "      <td>High: 60 °F</td>\n",
       "      <td>High</td>\n",
       "    </tr>\n",
       "    <tr>\n",
       "      <th>7</th>\n",
       "      <td>MondayNight</td>\n",
       "      <td>Rain andBreezy</td>\n",
       "      <td>Low: 53 °F</td>\n",
       "      <td>Low</td>\n",
       "    </tr>\n",
       "    <tr>\n",
       "      <th>8</th>\n",
       "      <td>Tuesday</td>\n",
       "      <td>Rain andBreezy</td>\n",
       "      <td>High: 60 °F</td>\n",
       "      <td>High</td>\n",
       "    </tr>\n",
       "  </tbody>\n",
       "</table>\n",
       "</div>"
      ],
      "text/plain": [
       "                   days                      desc         temp condition\n",
       "0  NOW until10:00am Sun               Flood Watch         None      None\n",
       "1             Overnight               Chance Rain   Low: 46 °F       Low\n",
       "2              Saturday  Rain Likelyand PatchyFog  High: 58 °F      High\n",
       "3         SaturdayNight        Rain andPatchy Fog   Low: 52 °F       Low\n",
       "4                Sunday        Rain andPatchy Fog  High: 60 °F      High\n",
       "5           SundayNight  Rain Likelyand PatchyFog   Low: 52 °F       Low\n",
       "6                Monday  Rain Likelyand PatchyFog  High: 60 °F      High\n",
       "7           MondayNight            Rain andBreezy   Low: 53 °F       Low\n",
       "8               Tuesday            Rain andBreezy  High: 60 °F      High"
      ]
     },
     "execution_count": 71,
     "metadata": {},
     "output_type": "execute_result"
    }
   ],
   "source": [
    "data"
   ]
  },
  {
   "cell_type": "code",
   "execution_count": 72,
   "id": "8d6a3cba",
   "metadata": {
    "id": "8d6a3cba"
   },
   "outputs": [],
   "source": [
    "data['temp'] = data['temp'].apply(lambda x:int(x.split()[1]) if x is not None else x)"
   ]
  },
  {
   "cell_type": "code",
   "execution_count": 73,
   "id": "f7ad467b",
   "metadata": {
    "id": "f7ad467b",
    "outputId": "a488d532-128b-4e0b-f5c3-1f100f329f1e"
   },
   "outputs": [
    {
     "data": {
      "text/html": [
       "<div>\n",
       "<style scoped>\n",
       "    .dataframe tbody tr th:only-of-type {\n",
       "        vertical-align: middle;\n",
       "    }\n",
       "\n",
       "    .dataframe tbody tr th {\n",
       "        vertical-align: top;\n",
       "    }\n",
       "\n",
       "    .dataframe thead th {\n",
       "        text-align: right;\n",
       "    }\n",
       "</style>\n",
       "<table border=\"1\" class=\"dataframe\">\n",
       "  <thead>\n",
       "    <tr style=\"text-align: right;\">\n",
       "      <th></th>\n",
       "      <th>days</th>\n",
       "      <th>desc</th>\n",
       "      <th>temp</th>\n",
       "      <th>condition</th>\n",
       "    </tr>\n",
       "  </thead>\n",
       "  <tbody>\n",
       "    <tr>\n",
       "      <th>0</th>\n",
       "      <td>NOW until10:00am Sun</td>\n",
       "      <td>Flood Watch</td>\n",
       "      <td>NaN</td>\n",
       "      <td>None</td>\n",
       "    </tr>\n",
       "    <tr>\n",
       "      <th>1</th>\n",
       "      <td>Overnight</td>\n",
       "      <td>Chance Rain</td>\n",
       "      <td>46.0</td>\n",
       "      <td>Low</td>\n",
       "    </tr>\n",
       "    <tr>\n",
       "      <th>2</th>\n",
       "      <td>Saturday</td>\n",
       "      <td>Rain Likelyand PatchyFog</td>\n",
       "      <td>58.0</td>\n",
       "      <td>High</td>\n",
       "    </tr>\n",
       "    <tr>\n",
       "      <th>3</th>\n",
       "      <td>SaturdayNight</td>\n",
       "      <td>Rain andPatchy Fog</td>\n",
       "      <td>52.0</td>\n",
       "      <td>Low</td>\n",
       "    </tr>\n",
       "    <tr>\n",
       "      <th>4</th>\n",
       "      <td>Sunday</td>\n",
       "      <td>Rain andPatchy Fog</td>\n",
       "      <td>60.0</td>\n",
       "      <td>High</td>\n",
       "    </tr>\n",
       "    <tr>\n",
       "      <th>5</th>\n",
       "      <td>SundayNight</td>\n",
       "      <td>Rain Likelyand PatchyFog</td>\n",
       "      <td>52.0</td>\n",
       "      <td>Low</td>\n",
       "    </tr>\n",
       "    <tr>\n",
       "      <th>6</th>\n",
       "      <td>Monday</td>\n",
       "      <td>Rain Likelyand PatchyFog</td>\n",
       "      <td>60.0</td>\n",
       "      <td>High</td>\n",
       "    </tr>\n",
       "    <tr>\n",
       "      <th>7</th>\n",
       "      <td>MondayNight</td>\n",
       "      <td>Rain andBreezy</td>\n",
       "      <td>53.0</td>\n",
       "      <td>Low</td>\n",
       "    </tr>\n",
       "    <tr>\n",
       "      <th>8</th>\n",
       "      <td>Tuesday</td>\n",
       "      <td>Rain andBreezy</td>\n",
       "      <td>60.0</td>\n",
       "      <td>High</td>\n",
       "    </tr>\n",
       "  </tbody>\n",
       "</table>\n",
       "</div>"
      ],
      "text/plain": [
       "                   days                      desc  temp condition\n",
       "0  NOW until10:00am Sun               Flood Watch   NaN      None\n",
       "1             Overnight               Chance Rain  46.0       Low\n",
       "2              Saturday  Rain Likelyand PatchyFog  58.0      High\n",
       "3         SaturdayNight        Rain andPatchy Fog  52.0       Low\n",
       "4                Sunday        Rain andPatchy Fog  60.0      High\n",
       "5           SundayNight  Rain Likelyand PatchyFog  52.0       Low\n",
       "6                Monday  Rain Likelyand PatchyFog  60.0      High\n",
       "7           MondayNight            Rain andBreezy  53.0       Low\n",
       "8               Tuesday            Rain andBreezy  60.0      High"
      ]
     },
     "execution_count": 73,
     "metadata": {},
     "output_type": "execute_result"
    }
   ],
   "source": [
    "data"
   ]
  },
  {
   "cell_type": "code",
   "execution_count": 74,
   "id": "7677fd1d",
   "metadata": {
    "id": "7677fd1d"
   },
   "outputs": [],
   "source": [
    "days = page.find(id=\"seven-day-forecast\")"
   ]
  },
  {
   "cell_type": "code",
   "execution_count": 75,
   "id": "3474327c",
   "metadata": {
    "id": "3474327c"
   },
   "outputs": [],
   "source": [
    "names = [i.text for i in days.select(\".panel-body .forecast-tombstone .period-name\")]\n",
    "desc = [i.text for i in days.select(\".panel-body .forecast-tombstone .short-desc\")]\n",
    "temp = [i.text for i in days.select(\".panel-body .forecast-tombstone .temp\")]"
   ]
  },
  {
   "cell_type": "code",
   "execution_count": 76,
   "id": "10d26b46",
   "metadata": {
    "id": "10d26b46",
    "outputId": "bb822ca1-923a-4a7e-9cdd-76817bfc0137"
   },
   "outputs": [
    {
     "ename": "ValueError",
     "evalue": "All arrays must be of the same length",
     "output_type": "error",
     "traceback": [
      "\u001b[0;31m---------------------------------------------------------------------------\u001b[0m",
      "\u001b[0;31mValueError\u001b[0m                                Traceback (most recent call last)",
      "Input \u001b[0;32mIn [76]\u001b[0m, in \u001b[0;36m<cell line: 1>\u001b[0;34m()\u001b[0m\n\u001b[0;32m----> 1\u001b[0m \u001b[43mpd\u001b[49m\u001b[38;5;241;43m.\u001b[39;49m\u001b[43mDataFrame\u001b[49m\u001b[43m(\u001b[49m\u001b[43m{\u001b[49m\u001b[38;5;124;43m\"\u001b[39;49m\u001b[38;5;124;43mnames\u001b[39;49m\u001b[38;5;124;43m\"\u001b[39;49m\u001b[43m:\u001b[49m\u001b[43mnames\u001b[49m\u001b[43m,\u001b[49m\u001b[43m \u001b[49m\u001b[38;5;124;43m\"\u001b[39;49m\u001b[38;5;124;43mdesc\u001b[39;49m\u001b[38;5;124;43m\"\u001b[39;49m\u001b[43m:\u001b[49m\u001b[43mdesc\u001b[49m\u001b[43m,\u001b[49m\u001b[43m \u001b[49m\u001b[38;5;124;43m\"\u001b[39;49m\u001b[38;5;124;43mtemp\u001b[39;49m\u001b[38;5;124;43m\"\u001b[39;49m\u001b[43m:\u001b[49m\u001b[43mtemp\u001b[49m\u001b[43m}\u001b[49m\u001b[43m)\u001b[49m\n",
      "File \u001b[0;32m~/.pyenv/versions/3.10.5/lib/python3.10/site-packages/pandas/core/frame.py:636\u001b[0m, in \u001b[0;36mDataFrame.__init__\u001b[0;34m(self, data, index, columns, dtype, copy)\u001b[0m\n\u001b[1;32m    630\u001b[0m     mgr \u001b[38;5;241m=\u001b[39m \u001b[38;5;28mself\u001b[39m\u001b[38;5;241m.\u001b[39m_init_mgr(\n\u001b[1;32m    631\u001b[0m         data, axes\u001b[38;5;241m=\u001b[39m{\u001b[38;5;124m\"\u001b[39m\u001b[38;5;124mindex\u001b[39m\u001b[38;5;124m\"\u001b[39m: index, \u001b[38;5;124m\"\u001b[39m\u001b[38;5;124mcolumns\u001b[39m\u001b[38;5;124m\"\u001b[39m: columns}, dtype\u001b[38;5;241m=\u001b[39mdtype, copy\u001b[38;5;241m=\u001b[39mcopy\n\u001b[1;32m    632\u001b[0m     )\n\u001b[1;32m    634\u001b[0m \u001b[38;5;28;01melif\u001b[39;00m \u001b[38;5;28misinstance\u001b[39m(data, \u001b[38;5;28mdict\u001b[39m):\n\u001b[1;32m    635\u001b[0m     \u001b[38;5;66;03m# GH#38939 de facto copy defaults to False only in non-dict cases\u001b[39;00m\n\u001b[0;32m--> 636\u001b[0m     mgr \u001b[38;5;241m=\u001b[39m \u001b[43mdict_to_mgr\u001b[49m\u001b[43m(\u001b[49m\u001b[43mdata\u001b[49m\u001b[43m,\u001b[49m\u001b[43m \u001b[49m\u001b[43mindex\u001b[49m\u001b[43m,\u001b[49m\u001b[43m \u001b[49m\u001b[43mcolumns\u001b[49m\u001b[43m,\u001b[49m\u001b[43m \u001b[49m\u001b[43mdtype\u001b[49m\u001b[38;5;241;43m=\u001b[39;49m\u001b[43mdtype\u001b[49m\u001b[43m,\u001b[49m\u001b[43m \u001b[49m\u001b[43mcopy\u001b[49m\u001b[38;5;241;43m=\u001b[39;49m\u001b[43mcopy\u001b[49m\u001b[43m,\u001b[49m\u001b[43m \u001b[49m\u001b[43mtyp\u001b[49m\u001b[38;5;241;43m=\u001b[39;49m\u001b[43mmanager\u001b[49m\u001b[43m)\u001b[49m\n\u001b[1;32m    637\u001b[0m \u001b[38;5;28;01melif\u001b[39;00m \u001b[38;5;28misinstance\u001b[39m(data, ma\u001b[38;5;241m.\u001b[39mMaskedArray):\n\u001b[1;32m    638\u001b[0m     \u001b[38;5;28;01mimport\u001b[39;00m \u001b[38;5;21;01mnumpy\u001b[39;00m\u001b[38;5;21;01m.\u001b[39;00m\u001b[38;5;21;01mma\u001b[39;00m\u001b[38;5;21;01m.\u001b[39;00m\u001b[38;5;21;01mmrecords\u001b[39;00m \u001b[38;5;28;01mas\u001b[39;00m \u001b[38;5;21;01mmrecords\u001b[39;00m\n",
      "File \u001b[0;32m~/.pyenv/versions/3.10.5/lib/python3.10/site-packages/pandas/core/internals/construction.py:502\u001b[0m, in \u001b[0;36mdict_to_mgr\u001b[0;34m(data, index, columns, dtype, typ, copy)\u001b[0m\n\u001b[1;32m    494\u001b[0m     arrays \u001b[38;5;241m=\u001b[39m [\n\u001b[1;32m    495\u001b[0m         x\n\u001b[1;32m    496\u001b[0m         \u001b[38;5;28;01mif\u001b[39;00m \u001b[38;5;129;01mnot\u001b[39;00m \u001b[38;5;28mhasattr\u001b[39m(x, \u001b[38;5;124m\"\u001b[39m\u001b[38;5;124mdtype\u001b[39m\u001b[38;5;124m\"\u001b[39m) \u001b[38;5;129;01mor\u001b[39;00m \u001b[38;5;129;01mnot\u001b[39;00m \u001b[38;5;28misinstance\u001b[39m(x\u001b[38;5;241m.\u001b[39mdtype, ExtensionDtype)\n\u001b[1;32m    497\u001b[0m         \u001b[38;5;28;01melse\u001b[39;00m x\u001b[38;5;241m.\u001b[39mcopy()\n\u001b[1;32m    498\u001b[0m         \u001b[38;5;28;01mfor\u001b[39;00m x \u001b[38;5;129;01min\u001b[39;00m arrays\n\u001b[1;32m    499\u001b[0m     ]\n\u001b[1;32m    500\u001b[0m     \u001b[38;5;66;03m# TODO: can we get rid of the dt64tz special case above?\u001b[39;00m\n\u001b[0;32m--> 502\u001b[0m \u001b[38;5;28;01mreturn\u001b[39;00m \u001b[43marrays_to_mgr\u001b[49m\u001b[43m(\u001b[49m\u001b[43marrays\u001b[49m\u001b[43m,\u001b[49m\u001b[43m \u001b[49m\u001b[43mcolumns\u001b[49m\u001b[43m,\u001b[49m\u001b[43m \u001b[49m\u001b[43mindex\u001b[49m\u001b[43m,\u001b[49m\u001b[43m \u001b[49m\u001b[43mdtype\u001b[49m\u001b[38;5;241;43m=\u001b[39;49m\u001b[43mdtype\u001b[49m\u001b[43m,\u001b[49m\u001b[43m \u001b[49m\u001b[43mtyp\u001b[49m\u001b[38;5;241;43m=\u001b[39;49m\u001b[43mtyp\u001b[49m\u001b[43m,\u001b[49m\u001b[43m \u001b[49m\u001b[43mconsolidate\u001b[49m\u001b[38;5;241;43m=\u001b[39;49m\u001b[43mcopy\u001b[49m\u001b[43m)\u001b[49m\n",
      "File \u001b[0;32m~/.pyenv/versions/3.10.5/lib/python3.10/site-packages/pandas/core/internals/construction.py:120\u001b[0m, in \u001b[0;36marrays_to_mgr\u001b[0;34m(arrays, columns, index, dtype, verify_integrity, typ, consolidate)\u001b[0m\n\u001b[1;32m    117\u001b[0m \u001b[38;5;28;01mif\u001b[39;00m verify_integrity:\n\u001b[1;32m    118\u001b[0m     \u001b[38;5;66;03m# figure out the index, if necessary\u001b[39;00m\n\u001b[1;32m    119\u001b[0m     \u001b[38;5;28;01mif\u001b[39;00m index \u001b[38;5;129;01mis\u001b[39;00m \u001b[38;5;28;01mNone\u001b[39;00m:\n\u001b[0;32m--> 120\u001b[0m         index \u001b[38;5;241m=\u001b[39m \u001b[43m_extract_index\u001b[49m\u001b[43m(\u001b[49m\u001b[43marrays\u001b[49m\u001b[43m)\u001b[49m\n\u001b[1;32m    121\u001b[0m     \u001b[38;5;28;01melse\u001b[39;00m:\n\u001b[1;32m    122\u001b[0m         index \u001b[38;5;241m=\u001b[39m ensure_index(index)\n",
      "File \u001b[0;32m~/.pyenv/versions/3.10.5/lib/python3.10/site-packages/pandas/core/internals/construction.py:674\u001b[0m, in \u001b[0;36m_extract_index\u001b[0;34m(data)\u001b[0m\n\u001b[1;32m    672\u001b[0m lengths \u001b[38;5;241m=\u001b[39m \u001b[38;5;28mlist\u001b[39m(\u001b[38;5;28mset\u001b[39m(raw_lengths))\n\u001b[1;32m    673\u001b[0m \u001b[38;5;28;01mif\u001b[39;00m \u001b[38;5;28mlen\u001b[39m(lengths) \u001b[38;5;241m>\u001b[39m \u001b[38;5;241m1\u001b[39m:\n\u001b[0;32m--> 674\u001b[0m     \u001b[38;5;28;01mraise\u001b[39;00m \u001b[38;5;167;01mValueError\u001b[39;00m(\u001b[38;5;124m\"\u001b[39m\u001b[38;5;124mAll arrays must be of the same length\u001b[39m\u001b[38;5;124m\"\u001b[39m)\n\u001b[1;32m    676\u001b[0m \u001b[38;5;28;01mif\u001b[39;00m have_dicts:\n\u001b[1;32m    677\u001b[0m     \u001b[38;5;28;01mraise\u001b[39;00m \u001b[38;5;167;01mValueError\u001b[39;00m(\n\u001b[1;32m    678\u001b[0m         \u001b[38;5;124m\"\u001b[39m\u001b[38;5;124mMixing dicts with non-Series may lead to ambiguous ordering.\u001b[39m\u001b[38;5;124m\"\u001b[39m\n\u001b[1;32m    679\u001b[0m     )\n",
      "\u001b[0;31mValueError\u001b[0m: All arrays must be of the same length"
     ]
    }
   ],
   "source": [
    "pd.DataFrame({\"names\":names, \"desc\":desc, \"temp\":temp})"
   ]
  },
  {
   "cell_type": "code",
   "execution_count": null,
   "id": "3a8ee508",
   "metadata": {
    "id": "3a8ee508"
   },
   "outputs": [],
   "source": [
    "url2 = \"https://en.wikipedia.org/wiki/List_of_countries_by_GDP_(nominal)\""
   ]
  },
  {
   "cell_type": "code",
   "execution_count": null,
   "id": "275dbce6",
   "metadata": {
    "id": "275dbce6"
   },
   "outputs": [],
   "source": [
    "request = requests.get(url2)"
   ]
  },
  {
   "cell_type": "code",
   "execution_count": null,
   "id": "e4018d5e",
   "metadata": {
    "id": "e4018d5e"
   },
   "outputs": [],
   "source": [
    "page =bs(request.content, \"html.parser\")"
   ]
  },
  {
   "cell_type": "markdown",
   "id": "d0c5c556",
   "metadata": {
    "id": "d0c5c556"
   },
   "source": [
    "## Wikipedia Webscrape"
   ]
  },
  {
   "cell_type": "code",
   "execution_count": null,
   "id": "15cfb3e4",
   "metadata": {
    "id": "15cfb3e4"
   },
   "outputs": [],
   "source": [
    "page = pd.read_html(url2)"
   ]
  },
  {
   "cell_type": "code",
   "execution_count": null,
   "id": "aec2970c",
   "metadata": {
    "id": "aec2970c"
   },
   "outputs": [],
   "source": [
    "data = page[2][:4]"
   ]
  },
  {
   "cell_type": "code",
   "execution_count": null,
   "id": "c3c41d88",
   "metadata": {
    "id": "c3c41d88"
   },
   "outputs": [],
   "source": [
    "data.columns = [i[1] for i in list(data.columns)]"
   ]
  },
  {
   "cell_type": "code",
   "execution_count": null,
   "id": "9869234b",
   "metadata": {
    "id": "9869234b",
    "outputId": "f913f26c-1c07-4568-8a45-fa54998eb4a1"
   },
   "outputs": [],
   "source": [
    "data"
   ]
  },
  {
   "cell_type": "code",
   "execution_count": null,
   "id": "75a0410f",
   "metadata": {
    "id": "75a0410f"
   },
   "outputs": [],
   "source": []
  }
 ],
 "metadata": {
  "colab": {
   "provenance": []
  },
  "kernelspec": {
   "display_name": "Python 3 (ipykernel)",
   "language": "python",
   "name": "python3"
  },
  "language_info": {
   "codemirror_mode": {
    "name": "ipython",
    "version": 3
   },
   "file_extension": ".py",
   "mimetype": "text/x-python",
   "name": "python",
   "nbconvert_exporter": "python",
   "pygments_lexer": "ipython3",
   "version": "3.10.5"
  }
 },
 "nbformat": 4,
 "nbformat_minor": 5
}
